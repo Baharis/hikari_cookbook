{
 "metadata": {
  "kernelspec": {
   "name": "python3",
   "display_name": "Python 3 (ipykernel)",
   "language": "python"
  },
  "language_info": {
   "name": "python",
   "version": "3.10.14",
   "mimetype": "text/x-python",
   "codemirror_mode": {
    "name": "ipython",
    "version": 3
   },
   "pygments_lexer": "ipython3",
   "nbconvert_exporter": "python",
   "file_extension": ".py"
  }
 },
 "nbformat_minor": 5,
 "nbformat": 4,
 "cells": [
  {
   "id": "7f78c419-d5b2-4ab5-b3b9-2915f6c233d5",
   "cell_type": "markdown",
   "source": "# Hkl summarize and visualize\nInvestigate the completeness and redundancy of a single hkl file and produce a .res file for visualization.\n\n### Steps for statistics summary:\n1) Copy .hkl file to be investigated to Jupyter. If running via binder, individual files are stored in private session and not published online.\n2) Fill all the necessary variables in the cell directly below these one.\n    1) `hkl_path` and `cif_path` should be the filenames of copied files.\n    2) For a full list of handled `hkl_format`s, see [hikari documentation](https://hikari.readthedocs.io/en/stable/autoapi/hikari/dataframes/hkl/index.html#hikari.dataframes.hkl.HklIo.format).\n    3) If no cif file is provided, supply `hm_space_group_symbol` and `unit_cell` in Angstrom and degrees.\n3) Run all cells in the notebook by selecting \"Run > Run All cells\" or repeating \"Shift+Enter\".\n4) The table with final analysis results will be available in the last cell.",
   "metadata": {}
  },
  {
   "id": "9000b272-c8fd-4994-9b0e-c306fde42c7b",
   "cell_type": "code",
   "source": [
    "# Variables to be modified\n",
    "hkl_path = 'filename.hkl'\n",
    "hkl_format = 'shelx_6'\n",
    "cif_path = 'filename.cif'\n",
    "\n",
    "# Provide variables below only if cif file has not been supplied\n",
    "hm_space_group_symbol = 'P 1 21/n 1'\n",
    "unit_cell = {'a': 10.0, 'b': 10.0, 'c': 10.0, 'al': 90, 'be': 120.0, 'ga': 90}\n",
    "\n",
    "# After all variables are set, update them via `Ctrl+Enter`"
   ],
   "metadata": {
    "trusted": true
   },
   "outputs": [],
   "execution_count": null
  },
  {
   "id": "623c22f7-009a-47e0-9169-1a9fbd9129e8",
   "cell_type": "code",
   "source": "# Run this cell with `Ctrl+Enter` to get the evaluation\nfrom hikari.dataframes import HklFrame, CifFrame\nfrom hikari.symmetry import Group, PG, SG\n\nh = HklFrame()\nh.read(hkl_path, hkl_format)\n\ntry:\n    c = CifFrame()\n    c.read(cif_path)\n    b = next(iter(c.values()))\n    h.fill_from_cif_block(b)\n    sg = Group.from_hall_symbol(b['_space_group_name_Hall'])\nexcept FileNotFoundError:\n    h.edit_cell(**unit_cell)\n    sg = SG[hm_space_group_symbol.replace(' ', '')]\n\nh.place()\nh.stats(bins=10, space_group=sg)\n",
   "metadata": {
    "trusted": true
   },
   "outputs": [],
   "execution_count": null
  },
  {
   "id": "15f67cf8-2605-4092-9bd7-7fe69cec7721",
   "cell_type": "markdown",
   "source": "### Following steps for hkl visualization in Mercury:\n1) Run the cell below via \"Ctrl+Enter\" to create a convert the hkl file supplied before.\n2) Download the newly-created `_hkl.res` and `hkl.msd` file\n3) If visualizing a hkl file for the first time:\n    1) In Mercury, open style manager by selecting \"Display > Manage Styles...\"\n    2) \"Open...\" the new `hkl.msd` file to import a new style.\n    3) Select the new \"hkl\" style, click \"Apply\" and restart Mercury to reset shaders\n5) Open mercury and import the newly-created `_hkl.res` file.\n",
   "metadata": {}
  },
  {
   "metadata": {
    "trusted": true
   },
   "cell_type": "code",
   "source": [
    "# Run this cell with `Ctrl+Enter` to get the visualization\n",
    "from pathlib import Path\n",
    "\n",
    "h_merged = h.copy()\n",
    "h_merged.merge(point_group=PG['1'])\n",
    "if 'm' not in h_merged.table:\n",
    "    h_merged.table['m'] = 1\n",
    "h_merged.to_res(path=Path(hkl_path).stem + '_hkl.res')"
   ],
   "id": "5dcd5ea1-df21-48b6-b26a-25a308ac52d2",
   "outputs": [],
   "execution_count": null
  }
 ]
}
