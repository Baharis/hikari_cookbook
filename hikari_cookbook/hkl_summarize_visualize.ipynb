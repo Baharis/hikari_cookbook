{
 "metadata": {
  "kernelspec": {
   "name": "python3",
   "display_name": "Python 3 (ipykernel)",
   "language": "python"
  },
  "language_info": {
   "name": "python",
   "version": "3.10.14",
   "mimetype": "text/x-python",
   "codemirror_mode": {
    "name": "ipython",
    "version": 3
   },
   "pygments_lexer": "ipython3",
   "nbconvert_exporter": "python",
   "file_extension": ".py"
  }
 },
 "nbformat_minor": 5,
 "nbformat": 4,
 "cells": [
  {
   "id": "7f78c419-d5b2-4ab5-b3b9-2915f6c233d5",
   "cell_type": "markdown",
   "source": "# Hkl summarize and visualize\nInvestigate the completeness and redundancy of a single hkl file and produce a .res file for visualization.\n\n### Steps for statistics summary:\n1) Copy .hkl file to be investigated to Jupyter. If running via binder, individual files are stored in private session and not published online.\n2) Fill all the necessary variables in the cell directly below these one.\n    1) `hkl_path` and `cif_path` should be the filenames of copied files.\n    2) For a full list of handled `hkl_format`s, see [hikari documentation](https://hikari.readthedocs.io/en/stable/autoapi/hikari/dataframes/hkl/index.html#hikari.dataframes.hkl.HklIo.format).\n    3) If no cif file is provided, supply `hm_space_group_symbol` and `unit_cell` in Angstrom and degrees.\n3) Run all cells in the notebook by selecting \"Run > Run All cells\" or repeating \"Shift+Enter\".\n4) The table with final analysis results will be available in the last cell.",
   "metadata": {}
  },
  {
   "id": "9000b272-c8fd-4994-9b0e-c306fde42c7b",
   "cell_type": "code",
   "source": [
    "# Variables to be modified\n",
    "hkl_path = 'filename.hkl'\n",
    "hkl_format = 'shelx_6'\n",
    "cif_path = 'filename.cif'\n",
    "\n",
    "# Provide variables below only if cif file has not been supplied\n",
    "hm_space_group_symbol = 'P 1 21/n 1'\n",
    "unit_cell = {'a': 10.0, 'b': 10.0, 'c': 10.0, 'al': 90, 'be': 120.0, 'ga': 90}\n",
    "\n",
    "# After all variables are set, update them via `Ctrl+Enter`"
   ],
   "metadata": {
    "trusted": true,
    "ExecuteTime": {
     "end_time": "2025-02-03T12:17:55.809898Z",
     "start_time": "2025-02-03T12:17:55.804388Z"
    }
   },
   "outputs": [],
   "execution_count": 1
  },
  {
   "id": "623c22f7-009a-47e0-9169-1a9fbd9129e8",
   "cell_type": "code",
   "source": "# Run this cell with `Ctrl+Enter` to get the evaluation\nfrom hikari.dataframes import HklFrame, CifFrame\nfrom hikari.symmetry import Group, PG, SG\n\nh = HklFrame()\nh.read(hkl_path, hkl_format)\n\ntry:\n    c = CifFrame()\n    c.read(cif_path)\n    b = next(iter(c.values()))\n    h.fill_from_cif_block(b)\n    sg = Group.from_hall_symbol(b['_space_group_name_Hall'])\nexcept FileNotFoundError:\n    h.edit_cell(**unit_cell)\n    sg = SG[hm_space_group_symbol.replace(' ', '')]\n\nh.place()\nh.stats(bins=10, space_group=sg)\n",
   "metadata": {
    "trusted": true,
    "ExecuteTime": {
     "end_time": "2025-02-03T12:17:59.439994Z",
     "start_time": "2025-02-03T12:17:56.554739Z"
    }
   },
   "outputs": [
    {
     "ename": "FileNotFoundError",
     "evalue": "[Errno 2] No such file or directory: 'C:\\\\Users\\\\tchon\\\\PycharmProjects\\\\hikari_cookbook\\\\hikari_cookbook\\\\filename.hkl'",
     "output_type": "error",
     "traceback": [
      "\u001B[1;31m---------------------------------------------------------------------------\u001B[0m",
      "\u001B[1;31mFileNotFoundError\u001B[0m                         Traceback (most recent call last)",
      "Cell \u001B[1;32mIn[2], line 6\u001B[0m\n\u001B[0;32m      3\u001B[0m \u001B[38;5;28;01mfrom\u001B[39;00m\u001B[38;5;250m \u001B[39m\u001B[38;5;21;01mhikari\u001B[39;00m\u001B[38;5;21;01m.\u001B[39;00m\u001B[38;5;21;01msymmetry\u001B[39;00m\u001B[38;5;250m \u001B[39m\u001B[38;5;28;01mimport\u001B[39;00m Group, PG, SG\n\u001B[0;32m      5\u001B[0m h \u001B[38;5;241m=\u001B[39m HklFrame()\n\u001B[1;32m----> 6\u001B[0m \u001B[43mh\u001B[49m\u001B[38;5;241;43m.\u001B[39;49m\u001B[43mread\u001B[49m\u001B[43m(\u001B[49m\u001B[43mhkl_path\u001B[49m\u001B[43m,\u001B[49m\u001B[43m \u001B[49m\u001B[43mhkl_format\u001B[49m\u001B[43m)\u001B[49m\n\u001B[0;32m      8\u001B[0m \u001B[38;5;28;01mtry\u001B[39;00m:\n\u001B[0;32m      9\u001B[0m     c \u001B[38;5;241m=\u001B[39m CifFrame()\n",
      "File \u001B[1;32m~\\PycharmProjects\\hikari_cookbook\\venv_temp\\Lib\\site-packages\\hikari\\dataframes\\hkl.py:638\u001B[0m, in \u001B[0;36mHklFrame.read\u001B[1;34m(self, hkl_path, hkl_format)\u001B[0m\n\u001B[0;32m    626\u001B[0m \u001B[38;5;250m\u001B[39m\u001B[38;5;124;03m\"\"\"\u001B[39;00m\n\u001B[0;32m    627\u001B[0m \u001B[38;5;124;03mRead the contents of .hkl file as specified by path and format,\u001B[39;00m\n\u001B[0;32m    628\u001B[0m \u001B[38;5;124;03mand store them in the pandas dataframe in `self.data`.\u001B[39;00m\n\u001B[1;32m   (...)\u001B[0m\n\u001B[0;32m    635\u001B[0m \u001B[38;5;124;03m:type hkl_format: union[int, str, dict]\u001B[39;00m\n\u001B[0;32m    636\u001B[0m \u001B[38;5;124;03m\"\"\"\u001B[39;00m\n\u001B[0;32m    637\u001B[0m reader \u001B[38;5;241m=\u001B[39m HklReader(hkl_file_path\u001B[38;5;241m=\u001B[39mhkl_path, hkl_file_format\u001B[38;5;241m=\u001B[39mhkl_format)\n\u001B[1;32m--> 638\u001B[0m dict_of_data \u001B[38;5;241m=\u001B[39m \u001B[43mreader\u001B[49m\u001B[38;5;241;43m.\u001B[39;49m\u001B[43mread\u001B[49m\u001B[43m(\u001B[49m\u001B[43m)\u001B[49m\n\u001B[0;32m    639\u001B[0m forgotten_keys \u001B[38;5;241m=\u001B[39m [k \u001B[38;5;28;01mfor\u001B[39;00m k \u001B[38;5;129;01min\u001B[39;00m HklKey\u001B[38;5;241m.\u001B[39mIMPERATIVES\n\u001B[0;32m    640\u001B[0m                   \u001B[38;5;28;01mif\u001B[39;00m k \u001B[38;5;129;01mnot\u001B[39;00m \u001B[38;5;129;01min\u001B[39;00m dict_of_data\u001B[38;5;241m.\u001B[39mkeys()]\n\u001B[0;32m    641\u001B[0m \u001B[38;5;28;01mfor\u001B[39;00m key \u001B[38;5;129;01min\u001B[39;00m forgotten_keys:\n",
      "File \u001B[1;32m~\\PycharmProjects\\hikari_cookbook\\venv_temp\\Lib\\site-packages\\hikari\\dataframes\\hkl.py:1071\u001B[0m, in \u001B[0;36mHklReader.read\u001B[1;34m(self)\u001B[0m\n\u001B[0;32m   1069\u001B[0m             list_of_reflections\u001B[38;5;241m.\u001B[39mappend(parsed_line)\n\u001B[0;32m   1070\u001B[0m     \u001B[38;5;28;01mreturn\u001B[39;00m np\u001B[38;5;241m.\u001B[39marray(list_of_reflections)\u001B[38;5;241m.\u001B[39mtranspose()\n\u001B[1;32m-> 1071\u001B[0m array_of_reflections \u001B[38;5;241m=\u001B[39m \u001B[43mread_file_to_list_of_data\u001B[49m\u001B[43m(\u001B[49m\u001B[43m)\u001B[49m\n\u001B[0;32m   1073\u001B[0m \u001B[38;5;28;01mdef\u001B[39;00m\u001B[38;5;250m \u001B[39m\u001B[38;5;21mbuild_dict_of_reflections\u001B[39m(_hkl_array):\n\u001B[0;32m   1074\u001B[0m     dict_of_data \u001B[38;5;241m=\u001B[39m \u001B[38;5;28mdict\u001B[39m()\n",
      "File \u001B[1;32m~\\PycharmProjects\\hikari_cookbook\\venv_temp\\Lib\\site-packages\\hikari\\dataframes\\hkl.py:1064\u001B[0m, in \u001B[0;36mHklReader.read.<locals>.read_file_to_list_of_data\u001B[1;34m()\u001B[0m\n\u001B[0;32m   1062\u001B[0m \u001B[38;5;28;01mdef\u001B[39;00m\u001B[38;5;250m \u001B[39m\u001B[38;5;21mread_file_to_list_of_data\u001B[39m():\n\u001B[0;32m   1063\u001B[0m     list_of_reflections \u001B[38;5;241m=\u001B[39m \u001B[38;5;28mlist\u001B[39m()\n\u001B[1;32m-> 1064\u001B[0m     \u001B[38;5;28;01mwith\u001B[39;00m \u001B[38;5;28;43mopen\u001B[39;49m\u001B[43m(\u001B[49m\u001B[38;5;28;43mself\u001B[39;49m\u001B[38;5;241;43m.\u001B[39;49m\u001B[43mfile_path\u001B[49m\u001B[43m,\u001B[49m\u001B[43m \u001B[49m\u001B[38;5;124;43m'\u001B[39;49m\u001B[38;5;124;43mr\u001B[39;49m\u001B[38;5;124;43m'\u001B[39;49m\u001B[43m)\u001B[49m \u001B[38;5;28;01mas\u001B[39;00m hkl_file:\n\u001B[0;32m   1065\u001B[0m         \u001B[38;5;28;01mfor\u001B[39;00m line \u001B[38;5;129;01min\u001B[39;00m hkl_file\u001B[38;5;241m.\u001B[39mread()\u001B[38;5;241m.\u001B[39msplitlines():\n\u001B[0;32m   1066\u001B[0m             parsed_line \u001B[38;5;241m=\u001B[39m parse_line(line)\n",
      "\u001B[1;31mFileNotFoundError\u001B[0m: [Errno 2] No such file or directory: 'C:\\\\Users\\\\tchon\\\\PycharmProjects\\\\hikari_cookbook\\\\hikari_cookbook\\\\filename.hkl'"
     ]
    }
   ],
   "execution_count": 2
  },
  {
   "id": "15f67cf8-2605-4092-9bd7-7fe69cec7721",
   "cell_type": "markdown",
   "source": "### Following steps for hkl visualization in Mercury:\n1) Run the cell below via \"Ctrl+Enter\" to create a convert the hkl file supplied before.\n2) Download the newly-created `_hkl.res` and `hkl.msd` file\n3) If visualizing a hkl file for the first time:\n    1) In Mercury, open style manager by selecting \"Display > Manage Styles...\"\n    2) \"Open...\" the new `hkl.msd` file to import a new style.\n    3) Select the new \"hkl\" style, click \"Apply\" and restart Mercury to reset shaders\n5) Open mercury and import the newly-created `_hkl.res` file.\n",
   "metadata": {}
  },
  {
   "id": "5dcd5ea1-df21-48b6-b26a-25a308ac52d2",
   "cell_type": "code",
   "source": [
    "# Run this cell with `Ctrl+Enter` to get the visualization\n",
    "from pathlib import Path\n",
    "\n",
    "h_merged = h.copy()\n",
    "h_merged.merge(point_group=PG['1'])\n",
    "if 'm' not in h_merged.table:\n",
    "    h_merged.table['m'] = 1\n",
    "h_merged.to_res(path=Path(hkl_path).stem + '_hkl.res')"
   ],
   "metadata": {
    "trusted": true
   },
   "outputs": [],
   "execution_count": null
  }
 ]
}
